{
 "cells": [
  {
   "cell_type": "code",
   "execution_count": 1,
   "metadata": {},
   "outputs": [],
   "source": [
    "# Dependencies\n",
    "from sklearn import datasets\n",
    "from sklearn.linear_model import LogisticRegression\n",
    "from sklearn.metrics import roc_curve\n",
    "import matplotlib.pyplot as plt\n",
    "from sklearn.model_selection import train_test_split\n",
    "from sklearn.metrics import precision_score, recall_score, f1_score, confusion_matrix\n",
    "from sklearn import preprocessing"
   ]
  },
  {
   "cell_type": "code",
   "execution_count": 2,
   "metadata": {},
   "outputs": [
    {
     "data": {
      "text/plain": [
       "LabelEncoder()"
      ]
     },
     "execution_count": 2,
     "metadata": {},
     "output_type": "execute_result"
    }
   ],
   "source": [
    "import pandas as pd\n",
    "import numpy as np\n",
    "le=preprocessing.LabelEncoder()\n",
    "le.fit([\"Yes\",\"No\"])\n"
   ]
  },
  {
   "cell_type": "code",
   "execution_count": 3,
   "metadata": {},
   "outputs": [],
   "source": [
    "data =pd.read_csv(\"C:\\\\Users\\\\Yathish nanaiah\\\\Desktop\\\\Logistic_Regression_Binary_Classsification_Churn_Data1.csv\")\n",
    "df=pd.DataFrame(data)\n",
    "f=df.dropna()\n",
    "\n",
    "\n",
    "a=df[\"Churn\"]\n",
    "b=le.fit_transform(a)\n",
    "c=pd.to_numeric(b)\n",
    "\n",
    "d=df[\"MonthlyCharges\"]\n",
    "e=df[\"TotalCharges\"]\n",
    "f=pd.to_numeric(e)\n",
    "\n",
    "\n",
    "fd=pd.DataFrame({\"MonthlyCharges\":d,\"TotalCharges\":f,\"Churn\":c})\n",
    "\n",
    "x=fd[[\"MonthlyCharges\",\"TotalCharges\"]]\n",
    "y=fd[\"Churn\"]\n",
    "\n"
   ]
  },
  {
   "cell_type": "code",
   "execution_count": 4,
   "metadata": {},
   "outputs": [],
   "source": [
    "x_train, x_test, y_train, y_test = train_test_split(x, y)"
   ]
  },
  {
   "cell_type": "code",
   "execution_count": 5,
   "metadata": {},
   "outputs": [
    {
     "data": {
      "text/plain": [
       "(      MonthlyCharges  TotalCharges\n",
       " 3952          108.05       7806.60\n",
       " 4022           18.85        163.20\n",
       " 1398           84.35       1938.05\n",
       " 100            20.20         20.20\n",
       " 6023           19.60        967.90\n",
       " 5422           62.65       4375.80\n",
       " 3377           25.05       1629.20\n",
       " 2213           25.25        274.70\n",
       " 6019           80.55       3263.90\n",
       " 3194           55.55       2342.20\n",
       " 2610           30.10       1131.30\n",
       " 855           100.15       6413.65\n",
       " 2506           24.30       1778.70\n",
       " 4208           60.80       4263.40\n",
       " 2455           89.35        461.70\n",
       " 6157           19.85         64.55\n",
       " 3440           90.55       6239.05\n",
       " 478            96.10        453.40\n",
       " 1700           20.45        943.00\n",
       " 835            93.25       5774.55\n",
       " 471            55.00         55.00\n",
       " 3257           93.20       2157.30\n",
       " 2649           25.00       1584.80\n",
       " 892            81.10       2619.25\n",
       " 4361           58.75       1696.20\n",
       " 5414          105.65       6903.10\n",
       " 6491           69.20         69.20\n",
       " 3830          100.20        420.20\n",
       " 1472           74.40        896.75\n",
       " 5431           19.80        695.05\n",
       " ...              ...           ...\n",
       " 6030           49.05       2076.20\n",
       " 5335           96.90       6314.35\n",
       " 2599           73.00       5265.20\n",
       " 5705           19.65         19.65\n",
       " 2909           55.45       2444.25\n",
       " 5050          106.05       6981.35\n",
       " 2202           70.10        467.55\n",
       " 5289          115.10       6993.65\n",
       " 4426           79.50       1264.20\n",
       " 6601          109.70       7898.45\n",
       " 6137           53.85        259.80\n",
       " 4183           33.60         33.60\n",
       " 5308           82.45       5555.30\n",
       " 4328           51.10        711.15\n",
       " 6307           19.90        601.55\n",
       " 5741           99.95       1931.75\n",
       " 4705           78.95        494.95\n",
       " 2299           55.50       2627.35\n",
       " 281            51.20        498.25\n",
       " 4582           90.15       6237.05\n",
       " 2119           20.20        845.60\n",
       " 6762           55.00       2010.55\n",
       " 357           105.25       6823.40\n",
       " 1567           67.80        653.15\n",
       " 1848           19.30        755.50\n",
       " 2947           90.40       4494.65\n",
       " 1011           58.65       4145.25\n",
       " 4820           84.30       4916.40\n",
       " 1230           87.20       4017.45\n",
       " 3561           80.50       2088.80\n",
       " \n",
       " [5282 rows x 2 columns], 3952    0\n",
       " 4022    0\n",
       " 1398    0\n",
       " 100     0\n",
       " 6023    0\n",
       " 5422    0\n",
       " 3377    0\n",
       " 2213    0\n",
       " 6019    0\n",
       " 3194    1\n",
       " 2610    1\n",
       " 855     1\n",
       " 2506    0\n",
       " 4208    0\n",
       " 2455    1\n",
       " 6157    1\n",
       " 3440    0\n",
       " 478     1\n",
       " 1700    0\n",
       " 835     0\n",
       " 471     1\n",
       " 3257    0\n",
       " 2649    0\n",
       " 892     0\n",
       " 4361    0\n",
       " 5414    1\n",
       " 6491    1\n",
       " 3830    1\n",
       " 1472    1\n",
       " 5431    0\n",
       "        ..\n",
       " 6030    1\n",
       " 5335    0\n",
       " 2599    0\n",
       " 5705    0\n",
       " 2909    0\n",
       " 5050    1\n",
       " 2202    1\n",
       " 5289    0\n",
       " 4426    0\n",
       " 6601    0\n",
       " 6137    1\n",
       " 4183    0\n",
       " 5308    0\n",
       " 4328    0\n",
       " 6307    0\n",
       " 5741    1\n",
       " 4705    0\n",
       " 2299    0\n",
       " 281     0\n",
       " 4582    0\n",
       " 2119    0\n",
       " 6762    1\n",
       " 357     0\n",
       " 1567    0\n",
       " 1848    0\n",
       " 2947    0\n",
       " 1011    0\n",
       " 4820    0\n",
       " 1230    0\n",
       " 3561    1\n",
       " Name: Churn, Length: 5282, dtype: int32)"
      ]
     },
     "execution_count": 5,
     "metadata": {},
     "output_type": "execute_result"
    }
   ],
   "source": [
    "logreg = LogisticRegression()\n",
    "x_train,y_train"
   ]
  },
  {
   "cell_type": "code",
   "execution_count": 6,
   "metadata": {},
   "outputs": [
    {
     "name": "stderr",
     "output_type": "stream",
     "text": [
      "C:\\Users\\Yathish nanaiah\\Anaconda3\\lib\\site-packages\\sklearn\\linear_model\\logistic.py:432: FutureWarning: Default solver will be changed to 'lbfgs' in 0.22. Specify a solver to silence this warning.\n",
      "  FutureWarning)\n"
     ]
    },
    {
     "data": {
      "text/plain": [
       "LogisticRegression(C=1.0, class_weight=None, dual=False, fit_intercept=True,\n",
       "                   intercept_scaling=1, l1_ratio=None, max_iter=100,\n",
       "                   multi_class='warn', n_jobs=None, penalty='l2',\n",
       "                   random_state=None, solver='warn', tol=0.0001, verbose=0,\n",
       "                   warm_start=False)"
      ]
     },
     "execution_count": 6,
     "metadata": {},
     "output_type": "execute_result"
    }
   ],
   "source": [
    "logreg.fit(x_train, y_train)"
   ]
  },
  {
   "cell_type": "code",
   "execution_count": 7,
   "metadata": {},
   "outputs": [],
   "source": [
    "predictions = logreg.predict(x_test)"
   ]
  },
  {
   "cell_type": "code",
   "execution_count": 8,
   "metadata": {},
   "outputs": [
    {
     "data": {
      "text/plain": [
       "array([0, 0, 1, ..., 0, 0, 0])"
      ]
     },
     "execution_count": 8,
     "metadata": {},
     "output_type": "execute_result"
    }
   ],
   "source": [
    "predictions"
   ]
  },
  {
   "cell_type": "code",
   "execution_count": 9,
   "metadata": {},
   "outputs": [
    {
     "data": {
      "text/plain": [
       "array([[1153,  126],\n",
       "       [ 277,  205]], dtype=int64)"
      ]
     },
     "execution_count": 9,
     "metadata": {},
     "output_type": "execute_result"
    }
   ],
   "source": [
    "confusion_matrix(y_test, predictions)"
   ]
  },
  {
   "cell_type": "code",
   "execution_count": 10,
   "metadata": {},
   "outputs": [
    {
     "data": {
      "text/plain": [
       "0.771152754116979"
      ]
     },
     "execution_count": 10,
     "metadata": {},
     "output_type": "execute_result"
    }
   ],
   "source": [
    "logreg.score(x_test, y_test)"
   ]
  },
  {
   "cell_type": "code",
   "execution_count": 11,
   "metadata": {},
   "outputs": [
    {
     "data": {
      "text/plain": [
       "0.6193353474320241"
      ]
     },
     "execution_count": 11,
     "metadata": {},
     "output_type": "execute_result"
    }
   ],
   "source": [
    "precision_score(y_test, predictions)"
   ]
  },
  {
   "cell_type": "code",
   "execution_count": 12,
   "metadata": {},
   "outputs": [
    {
     "data": {
      "text/plain": [
       "0.42531120331950206"
      ]
     },
     "execution_count": 12,
     "metadata": {},
     "output_type": "execute_result"
    }
   ],
   "source": [
    "recall_score(y_test, predictions)"
   ]
  },
  {
   "cell_type": "code",
   "execution_count": 13,
   "metadata": {},
   "outputs": [
    {
     "data": {
      "text/plain": [
       "0.5043050430504306"
      ]
     },
     "execution_count": 13,
     "metadata": {},
     "output_type": "execute_result"
    }
   ],
   "source": [
    "f1_score(y_test, predictions)"
   ]
  },
  {
   "cell_type": "code",
   "execution_count": null,
   "metadata": {},
   "outputs": [],
   "source": []
  }
 ],
 "metadata": {
  "kernelspec": {
   "display_name": "Python 3",
   "language": "python",
   "name": "python3"
  },
  "language_info": {
   "codemirror_mode": {
    "name": "ipython",
    "version": 3
   },
   "file_extension": ".py",
   "mimetype": "text/x-python",
   "name": "python",
   "nbconvert_exporter": "python",
   "pygments_lexer": "ipython3",
   "version": "3.7.3"
  }
 },
 "nbformat": 4,
 "nbformat_minor": 2
}
