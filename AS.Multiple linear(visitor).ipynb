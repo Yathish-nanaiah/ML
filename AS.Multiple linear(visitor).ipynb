{
 "cells": [
  {
   "cell_type": "code",
   "execution_count": 1,
   "metadata": {},
   "outputs": [],
   "source": [
    "from sklearn import datasets\n",
    "from sklearn.metrics import r2_score\n",
    "from sklearn.linear_model import LinearRegression\n",
    "from sklearn.model_selection import train_test_split"
   ]
  },
  {
   "cell_type": "code",
   "execution_count": 2,
   "metadata": {},
   "outputs": [],
   "source": [
    "import pandas as pd\n",
    "import numpy as np"
   ]
  },
  {
   "cell_type": "code",
   "execution_count": 3,
   "metadata": {},
   "outputs": [],
   "source": [
    "data =pd.read_csv(\"C:\\\\Users\\\\Yathish nanaiah\\\\Desktop\\\\Visitor_Prediction_Multiple_Linear_Regression_data.csv\")\n",
    "df=pd.DataFrame(data)"
   ]
  },
  {
   "cell_type": "code",
   "execution_count": 4,
   "metadata": {},
   "outputs": [
    {
     "name": "stdout",
     "output_type": "stream",
     "text": [
      "LinearRegression(copy_X=True, fit_intercept=True, n_jobs=None, normalize=False)\n",
      " \n",
      "[1635900.82764712 1604176.25088808 1328271.60391671 1808271.32277977\n",
      " 1357428.21486538 1830617.51512776 1752284.26020554 1806969.32419965\n",
      " 1740611.01470926 1624127.04143939 1403647.96900581 1767414.03410625\n",
      " 1633539.04720753 1593786.03489405 1753207.06229031 1469459.71241939\n",
      " 1442752.21961689 2055963.38346463 1856609.47458466 1717591.67045338]\n",
      " \n",
      "36    1589841\n",
      "29    1630580\n",
      "1     1270561\n",
      "73    1900320\n",
      "2     1248183\n",
      "51    1810697\n",
      "61    1904704\n",
      "25    1924046\n",
      "70    1784534\n",
      "33    1668290\n",
      "8     1345428\n",
      "43    1613314\n",
      "37    1568119\n",
      "24    1678527\n",
      "62    1816855\n",
      "14    1410668\n",
      "13    1459500\n",
      "60    2187064\n",
      "66    2016144\n",
      "68    1840748\n",
      "Name: Visitors, dtype: int64\n",
      " \n",
      "0.8585740447718749\n"
     ]
    }
   ],
   "source": [
    "x=df[['Ad_impression','Views_platform']]\n",
    "y=df['Visitors']\n",
    "x_train, x_test, y_train, y_test = train_test_split(x, y)\n",
    "regressor = LinearRegression()\n",
    "print(regressor.fit(x_train, y_train))\n",
    "print(\" \")\n",
    "predictions = regressor.predict(x_test)\n",
    "print(predictions)\n",
    "print(\" \")\n",
    "print(y_test)\n",
    "print(\" \")\n",
    "r2=r2_score(y_test, predictions)\n",
    "print(r2)\n"
   ]
  },
  {
   "cell_type": "code",
   "execution_count": null,
   "metadata": {},
   "outputs": [],
   "source": []
  }
 ],
 "metadata": {
  "kernelspec": {
   "display_name": "Python 3",
   "language": "python",
   "name": "python3"
  },
  "language_info": {
   "codemirror_mode": {
    "name": "ipython",
    "version": 3
   },
   "file_extension": ".py",
   "mimetype": "text/x-python",
   "name": "python",
   "nbconvert_exporter": "python",
   "pygments_lexer": "ipython3",
   "version": "3.7.3"
  }
 },
 "nbformat": 4,
 "nbformat_minor": 2
}
