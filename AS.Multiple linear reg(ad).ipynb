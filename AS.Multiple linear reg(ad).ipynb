{
 "cells": [
  {
   "cell_type": "code",
   "execution_count": 1,
   "metadata": {},
   "outputs": [],
   "source": [
    "from sklearn import datasets\n",
    "from sklearn.metrics import r2_score\n",
    "from sklearn.linear_model import LinearRegression\n",
    "from sklearn.model_selection import train_test_split"
   ]
  },
  {
   "cell_type": "code",
   "execution_count": 2,
   "metadata": {},
   "outputs": [],
   "source": [
    "import pandas as pd\n",
    "import numpy as np"
   ]
  },
  {
   "cell_type": "code",
   "execution_count": 3,
   "metadata": {},
   "outputs": [],
   "source": [
    "data =pd.read_csv(\"C:\\\\Users\\\\Yathish nanaiah\\\\Desktop\\\\Multiple_Linear_Regression_Advertising_data.csv\")\n",
    "df=pd.DataFrame(data)"
   ]
  },
  {
   "cell_type": "code",
   "execution_count": 4,
   "metadata": {},
   "outputs": [
    {
     "name": "stdout",
     "output_type": "stream",
     "text": [
      "LinearRegression(copy_X=True, fit_intercept=True, n_jobs=None, normalize=False)\n",
      " \n",
      "[ 6.38250596  3.52630692 11.94694706 19.39791054 14.1521069  12.61900301\n",
      " 11.93536963 23.5401289  11.12691785 22.89318749 12.68191298 17.11088224\n",
      "  7.57533784 20.7720121  12.85891302 12.47968028  8.65590355 11.26425384\n",
      " 16.9196418  20.40334896 14.19037399 14.9034452  19.85187435 16.43282947\n",
      "  8.08557859 13.88679483 14.2338353  14.63645958  7.53504557 10.46741068\n",
      " 21.15733173 10.61331198 20.64507195 11.67539252 15.15381573 10.56492359\n",
      " 12.79428116 14.20363512 19.86849237  6.5910063  18.22095496 15.8815279\n",
      "  4.43962749 12.79791482 17.00951271 20.44422759  9.15870653  4.39180203\n",
      " 23.24325242 13.65202079]\n",
      " \n",
      "22      5.6\n",
      "108     5.3\n",
      "173    11.7\n",
      "28     18.9\n",
      "160    14.4\n",
      "96     11.7\n",
      "116    12.2\n",
      "36     25.4\n",
      "164    11.9\n",
      "101    23.8\n",
      "190    10.8\n",
      "187    17.3\n",
      "34      9.5\n",
      "15     22.4\n",
      "115    12.6\n",
      "50     11.4\n",
      "143    10.4\n",
      "31     11.9\n",
      "99     17.2\n",
      "104    20.7\n",
      "19     14.6\n",
      "162    14.9\n",
      "139    20.7\n",
      "113    15.9\n",
      "49      9.7\n",
      "77     14.2\n",
      "171    14.5\n",
      "21     12.5\n",
      "32      9.6\n",
      "72      8.8\n",
      "69     22.3\n",
      "130     1.6\n",
      "52     22.6\n",
      "86     12.0\n",
      "199    13.4\n",
      "71     12.4\n",
      "57     13.2\n",
      "135    11.6\n",
      "53     21.2\n",
      "127     8.8\n",
      "153    19.0\n",
      "178    11.8\n",
      "76      6.9\n",
      "197    12.8\n",
      "168    17.1\n",
      "39     21.5\n",
      "66      9.5\n",
      "192     5.9\n",
      "147    25.4\n",
      "100    11.7\n",
      "Name: Sales, dtype: float64\n",
      " \n",
      "0.8771802185523614\n"
     ]
    }
   ],
   "source": [
    "x=df[['TV','Radio','Newspaper']]\n",
    "y=df['Sales']\n",
    "x_train, x_test, y_train, y_test = train_test_split(x, y)\n",
    "regressor = LinearRegression()\n",
    "print(regressor.fit(x_train, y_train))\n",
    "print(\" \")\n",
    "predictions = regressor.predict(x_test)\n",
    "print(predictions)\n",
    "print(\" \")\n",
    "print(y_test)\n",
    "print(\" \")\n",
    "r2=r2_score(y_test, predictions)\n",
    "print(r2)"
   ]
  },
  {
   "cell_type": "code",
   "execution_count": null,
   "metadata": {},
   "outputs": [],
   "source": []
  },
  {
   "cell_type": "code",
   "execution_count": null,
   "metadata": {},
   "outputs": [],
   "source": []
  },
  {
   "cell_type": "code",
   "execution_count": null,
   "metadata": {},
   "outputs": [],
   "source": []
  },
  {
   "cell_type": "code",
   "execution_count": null,
   "metadata": {},
   "outputs": [],
   "source": []
  },
  {
   "cell_type": "code",
   "execution_count": null,
   "metadata": {},
   "outputs": [],
   "source": []
  },
  {
   "cell_type": "code",
   "execution_count": null,
   "metadata": {},
   "outputs": [],
   "source": []
  },
  {
   "cell_type": "code",
   "execution_count": null,
   "metadata": {},
   "outputs": [],
   "source": []
  },
  {
   "cell_type": "code",
   "execution_count": null,
   "metadata": {},
   "outputs": [],
   "source": []
  },
  {
   "cell_type": "code",
   "execution_count": null,
   "metadata": {},
   "outputs": [],
   "source": []
  },
  {
   "cell_type": "code",
   "execution_count": null,
   "metadata": {},
   "outputs": [],
   "source": []
  },
  {
   "cell_type": "code",
   "execution_count": null,
   "metadata": {},
   "outputs": [],
   "source": []
  },
  {
   "cell_type": "code",
   "execution_count": null,
   "metadata": {},
   "outputs": [],
   "source": []
  },
  {
   "cell_type": "code",
   "execution_count": null,
   "metadata": {},
   "outputs": [],
   "source": []
  }
 ],
 "metadata": {
  "kernelspec": {
   "display_name": "Python 3",
   "language": "python",
   "name": "python3"
  },
  "language_info": {
   "codemirror_mode": {
    "name": "ipython",
    "version": 3
   },
   "file_extension": ".py",
   "mimetype": "text/x-python",
   "name": "python",
   "nbconvert_exporter": "python",
   "pygments_lexer": "ipython3",
   "version": "3.7.3"
  }
 },
 "nbformat": 4,
 "nbformat_minor": 2
}
