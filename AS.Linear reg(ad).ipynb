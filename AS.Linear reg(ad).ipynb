{
 "cells": [
  {
   "cell_type": "code",
   "execution_count": 1,
   "metadata": {},
   "outputs": [],
   "source": [
    "from sklearn import datasets\n",
    "from sklearn.metrics import r2_score\n",
    "from sklearn.linear_model import LinearRegression\n",
    "from sklearn.model_selection import train_test_split"
   ]
  },
  {
   "cell_type": "code",
   "execution_count": 2,
   "metadata": {},
   "outputs": [],
   "source": [
    "import pandas as pd\n",
    "import numpy as np"
   ]
  },
  {
   "cell_type": "code",
   "execution_count": 3,
   "metadata": {},
   "outputs": [],
   "source": [
    "data =pd.read_csv(\"C:\\\\Users\\\\Yathish nanaiah\\\\Desktop\\\\PYTHON\\\\Simple_Linear_Regression_Sales_data-Copy1.csv\")"
   ]
  },
  {
   "cell_type": "code",
   "execution_count": 4,
   "metadata": {},
   "outputs": [],
   "source": [
    "df=pd.DataFrame(data)"
   ]
  },
  {
   "cell_type": "code",
   "execution_count": 5,
   "metadata": {},
   "outputs": [],
   "source": [
    "a=df['TV']\n",
    "a=np.asarray(a)\n",
    "x=a.reshape(-1,1)\n",
    "y=df['Sales']"
   ]
  },
  {
   "cell_type": "code",
   "execution_count": 6,
   "metadata": {},
   "outputs": [
    {
     "name": "stdout",
     "output_type": "stream",
     "text": [
      "LinearRegression(copy_X=True, fit_intercept=True, n_jobs=None, normalize=False)\n",
      " \n",
      "[11.76101278 15.56947153 10.09540864 12.02350054  7.9286915  13.62228961\n",
      " 12.51029602  9.17908773  8.01936909 16.99645044 18.54274196 19.7979107\n",
      " 10.94968698 15.24494121 19.23475514 11.21217474 18.10367153  8.62547719\n",
      " 21.13421201 15.56947153 18.57137699 20.99580938 12.11417813 18.31366174\n",
      "  7.49439357 15.9464994  10.62515666  7.68052126  9.17431523 17.63596607\n",
      " 21.26784215 17.64551108 14.27135025 19.85995326 13.81796231 15.15903613\n",
      " 13.4075269   7.94300902 18.49024441 16.24239469  7.37985346 17.30666324\n",
      " 16.78646023 10.27676382 17.3687058  15.08267605 14.59588057 18.580922\n",
      " 17.73618867 12.65824366]\n",
      " \n",
      "32      9.6\n",
      "41     17.1\n",
      "24      9.7\n",
      "63     14.0\n",
      "75      8.7\n",
      "57     13.2\n",
      "31     11.9\n",
      "38     10.1\n",
      "121     7.0\n",
      "43     12.9\n",
      "62     15.7\n",
      "33     17.4\n",
      "127     8.8\n",
      "177    11.7\n",
      "184    17.6\n",
      "161    13.3\n",
      "0      22.1\n",
      "66      9.5\n",
      "42     20.7\n",
      "197    12.8\n",
      "47     23.2\n",
      "35     12.8\n",
      "143    10.4\n",
      "165    11.9\n",
      "126     6.6\n",
      "139    20.7\n",
      "140    10.9\n",
      "158     7.3\n",
      "138     9.6\n",
      "128    24.7\n",
      "101    23.8\n",
      "142    20.1\n",
      "157    10.1\n",
      "36     25.4\n",
      "145    10.3\n",
      "173    11.7\n",
      "159    12.9\n",
      "2       9.3\n",
      "104    20.7\n",
      "187    17.3\n",
      "78      5.3\n",
      "74     17.0\n",
      "40     16.6\n",
      "10      8.6\n",
      "11     17.4\n",
      "193    19.6\n",
      "180    10.5\n",
      "27     15.9\n",
      "100    11.7\n",
      "79     11.0\n",
      "Name: Sales, dtype: float64\n",
      " \n",
      "0.6278948928642734\n"
     ]
    }
   ],
   "source": [
    "x_train, x_test, y_train, y_test = train_test_split(x, y)\n",
    "regressor = LinearRegression()\n",
    "print(regressor.fit(x_train, y_train))\n",
    "print(\" \")\n",
    "predictions = regressor.predict(x_test)\n",
    "print(predictions)\n",
    "print(\" \")\n",
    "print(y_test)\n",
    "print(\" \")\n",
    "r2=r2_score(y_test, predictions)\n",
    "print(r2)"
   ]
  },
  {
   "cell_type": "code",
   "execution_count": null,
   "metadata": {},
   "outputs": [],
   "source": []
  },
  {
   "cell_type": "code",
   "execution_count": null,
   "metadata": {},
   "outputs": [],
   "source": []
  },
  {
   "cell_type": "code",
   "execution_count": null,
   "metadata": {},
   "outputs": [],
   "source": []
  },
  {
   "cell_type": "code",
   "execution_count": null,
   "metadata": {},
   "outputs": [],
   "source": []
  },
  {
   "cell_type": "code",
   "execution_count": null,
   "metadata": {},
   "outputs": [],
   "source": []
  },
  {
   "cell_type": "code",
   "execution_count": null,
   "metadata": {},
   "outputs": [],
   "source": []
  },
  {
   "cell_type": "code",
   "execution_count": null,
   "metadata": {},
   "outputs": [],
   "source": []
  },
  {
   "cell_type": "code",
   "execution_count": null,
   "metadata": {},
   "outputs": [],
   "source": []
  }
 ],
 "metadata": {
  "kernelspec": {
   "display_name": "Python 3",
   "language": "python",
   "name": "python3"
  },
  "language_info": {
   "codemirror_mode": {
    "name": "ipython",
    "version": 3
   },
   "file_extension": ".py",
   "mimetype": "text/x-python",
   "name": "python",
   "nbconvert_exporter": "python",
   "pygments_lexer": "ipython3",
   "version": "3.7.3"
  }
 },
 "nbformat": 4,
 "nbformat_minor": 2
}
